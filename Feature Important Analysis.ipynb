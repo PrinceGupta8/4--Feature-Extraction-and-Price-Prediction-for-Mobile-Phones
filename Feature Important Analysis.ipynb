{
 "cells": [
  {
   "cell_type": "code",
   "execution_count": 1,
   "id": "8c454c4d",
   "metadata": {},
   "outputs": [],
   "source": [
    "import pandas as pd\n",
    "import numpy as np\n",
    "import matplotlib.pyplot as plt\n",
    "import seaborn as sns"
   ]
  },
  {
   "cell_type": "code",
   "execution_count": 2,
   "id": "d8bc862b",
   "metadata": {},
   "outputs": [],
   "source": [
    "df=pd.read_csv(r'D:\\DA Projects\\4- Feature Extraction and Price Prediction for Mobile Phones\\dataset\\Processed_Flipdata - Processed_Flipdata.csv')"
   ]
  },
  {
   "cell_type": "code",
   "execution_count": 3,
   "id": "0fbc0c5b",
   "metadata": {},
   "outputs": [
    {
     "data": {
      "text/html": [
       "<div>\n",
       "<style scoped>\n",
       "    .dataframe tbody tr th:only-of-type {\n",
       "        vertical-align: middle;\n",
       "    }\n",
       "\n",
       "    .dataframe tbody tr th {\n",
       "        vertical-align: top;\n",
       "    }\n",
       "\n",
       "    .dataframe thead th {\n",
       "        text-align: right;\n",
       "    }\n",
       "</style>\n",
       "<table border=\"1\" class=\"dataframe\">\n",
       "  <thead>\n",
       "    <tr style=\"text-align: right;\">\n",
       "      <th></th>\n",
       "      <th>Unnamed: 0</th>\n",
       "      <th>Model</th>\n",
       "      <th>Colour</th>\n",
       "      <th>Memory</th>\n",
       "      <th>RAM</th>\n",
       "      <th>Battery_</th>\n",
       "      <th>Rear Camera</th>\n",
       "      <th>Front Camera</th>\n",
       "      <th>AI Lens</th>\n",
       "      <th>Mobile Height</th>\n",
       "      <th>Processor_</th>\n",
       "      <th>Prize</th>\n",
       "    </tr>\n",
       "  </thead>\n",
       "  <tbody>\n",
       "    <tr>\n",
       "      <th>0</th>\n",
       "      <td>0</td>\n",
       "      <td>Infinix SMART 7</td>\n",
       "      <td>Night Black</td>\n",
       "      <td>64</td>\n",
       "      <td>4</td>\n",
       "      <td>6000</td>\n",
       "      <td>13MP</td>\n",
       "      <td>5MP</td>\n",
       "      <td>1</td>\n",
       "      <td>16.76</td>\n",
       "      <td>Unisoc Spreadtrum SC9863A1</td>\n",
       "      <td>7,299</td>\n",
       "    </tr>\n",
       "    <tr>\n",
       "      <th>1</th>\n",
       "      <td>1</td>\n",
       "      <td>Infinix SMART 7</td>\n",
       "      <td>Azure Blue</td>\n",
       "      <td>64</td>\n",
       "      <td>4</td>\n",
       "      <td>6000</td>\n",
       "      <td>13MP</td>\n",
       "      <td>5MP</td>\n",
       "      <td>1</td>\n",
       "      <td>16.76</td>\n",
       "      <td>Unisoc Spreadtrum SC9863A1</td>\n",
       "      <td>7,299</td>\n",
       "    </tr>\n",
       "    <tr>\n",
       "      <th>2</th>\n",
       "      <td>2</td>\n",
       "      <td>MOTOROLA G32</td>\n",
       "      <td>Mineral Gray</td>\n",
       "      <td>128</td>\n",
       "      <td>8</td>\n",
       "      <td>5000</td>\n",
       "      <td>50MP</td>\n",
       "      <td>16MP</td>\n",
       "      <td>0</td>\n",
       "      <td>16.64</td>\n",
       "      <td>Qualcomm Snapdragon 680</td>\n",
       "      <td>11,999</td>\n",
       "    </tr>\n",
       "    <tr>\n",
       "      <th>3</th>\n",
       "      <td>3</td>\n",
       "      <td>POCO C50</td>\n",
       "      <td>Royal Blue</td>\n",
       "      <td>32</td>\n",
       "      <td>2</td>\n",
       "      <td>5000</td>\n",
       "      <td>8MP</td>\n",
       "      <td>5MP</td>\n",
       "      <td>0</td>\n",
       "      <td>16.56</td>\n",
       "      <td>Mediatek Helio A22</td>\n",
       "      <td>5,649</td>\n",
       "    </tr>\n",
       "    <tr>\n",
       "      <th>4</th>\n",
       "      <td>4</td>\n",
       "      <td>Infinix HOT 30i</td>\n",
       "      <td>Marigold</td>\n",
       "      <td>128</td>\n",
       "      <td>8</td>\n",
       "      <td>5000</td>\n",
       "      <td>50MP</td>\n",
       "      <td>5MP</td>\n",
       "      <td>1</td>\n",
       "      <td>16.76</td>\n",
       "      <td>G37</td>\n",
       "      <td>8,999</td>\n",
       "    </tr>\n",
       "  </tbody>\n",
       "</table>\n",
       "</div>"
      ],
      "text/plain": [
       "   Unnamed: 0            Model        Colour  Memory  RAM  Battery_  \\\n",
       "0           0  Infinix SMART 7   Night Black      64    4      6000   \n",
       "1           1  Infinix SMART 7    Azure Blue      64    4      6000   \n",
       "2           2     MOTOROLA G32  Mineral Gray     128    8      5000   \n",
       "3           3         POCO C50    Royal Blue      32    2      5000   \n",
       "4           4  Infinix HOT 30i      Marigold     128    8      5000   \n",
       "\n",
       "  Rear Camera Front Camera  AI Lens  Mobile Height  \\\n",
       "0        13MP          5MP        1          16.76   \n",
       "1        13MP          5MP        1          16.76   \n",
       "2        50MP         16MP        0          16.64   \n",
       "3         8MP          5MP        0          16.56   \n",
       "4        50MP          5MP        1          16.76   \n",
       "\n",
       "                   Processor_   Prize  \n",
       "0  Unisoc Spreadtrum SC9863A1   7,299  \n",
       "1  Unisoc Spreadtrum SC9863A1   7,299  \n",
       "2     Qualcomm Snapdragon 680  11,999  \n",
       "3          Mediatek Helio A22   5,649  \n",
       "4                         G37   8,999  "
      ]
     },
     "execution_count": 3,
     "metadata": {},
     "output_type": "execute_result"
    }
   ],
   "source": [
    "df.head()"
   ]
  },
  {
   "cell_type": "code",
   "execution_count": 4,
   "id": "3bed864b",
   "metadata": {},
   "outputs": [],
   "source": [
    "df['Prize']=df['Prize'].str.replace(',','').astype(int)"
   ]
  },
  {
   "cell_type": "markdown",
   "id": "9077a3d6",
   "metadata": {},
   "source": [
    "### Product Strategy & Market Fit"
   ]
  },
  {
   "cell_type": "markdown",
   "id": "b5b87bc5",
   "metadata": {},
   "source": [
    "#### 1- What price segment has the most models (low/mid/high)?"
   ]
  },
  {
   "cell_type": "code",
   "execution_count": 5,
   "id": "8844aae7",
   "metadata": {},
   "outputs": [
    {
     "data": {
      "text/plain": [
       "count      541.000000\n",
       "mean     16228.375231\n",
       "std      10793.588322\n",
       "min        920.000000\n",
       "25%       9290.000000\n",
       "50%      13499.000000\n",
       "75%      19280.000000\n",
       "max      80999.000000\n",
       "Name: Prize, dtype: float64"
      ]
     },
     "execution_count": 5,
     "metadata": {},
     "output_type": "execute_result"
    }
   ],
   "source": [
    "df['Prize'].describe()"
   ]
  },
  {
   "cell_type": "code",
   "execution_count": 6,
   "id": "de87dc6c",
   "metadata": {},
   "outputs": [
    {
     "data": {
      "text/plain": [
       "Text(0, 0.5, 'Prize')"
      ]
     },
     "execution_count": 6,
     "metadata": {},
     "output_type": "execute_result"
    },
    {
     "data": {
      "image/png": "[encoded data removed]",
      "text/plain": [
       "<Figure size 640x480 with 1 Axes>"
      ]
     },
     "metadata": {},
     "output_type": "display_data"
    }
   ],
   "source": [
    "plt.plot(df['Prize'],)\n",
    "plt.xlabel('count')\n",
    "plt.ylabel('Prize')"
   ]
  },
  {
   "cell_type": "code",
   "execution_count": 7,
   "id": "0090a6a5",
   "metadata": {},
   "outputs": [],
   "source": [
    "conditions=[\n",
    "    df['Prize']<=10000,\n",
    "    (df['Prize']>10000) & (df['Prize']<=30000),\n",
    "    df['Prize']>30000\n",
    "]\n",
    "segments=['Low','Medium','High']\n",
    "df['Prize Segment']=np.select(conditions,segments,default='Unknown')"
   ]
  },
  {
   "cell_type": "code",
   "execution_count": 8,
   "id": "e92375d4",
   "metadata": {},
   "outputs": [
    {
     "data": {
      "text/plain": [
       "Prize Segment\n",
       "High       46\n",
       "Low       179\n",
       "Medium    316\n",
       "Name: Model, dtype: int64"
      ]
     },
     "execution_count": 8,
     "metadata": {},
     "output_type": "execute_result"
    }
   ],
   "source": [
    "df.groupby('Prize Segment')['Model'].count()"
   ]
  },
  {
   "cell_type": "markdown",
   "id": "36edce8d",
   "metadata": {},
   "source": [
    "**Insight**-- Mostly models are in medium range"
   ]
  },
  {
   "cell_type": "markdown",
   "id": "b68bad92",
   "metadata": {},
   "source": [
    "2. **Which Model dominates specific price ranges?**"
   ]
  },
  {
   "cell_type": "code",
   "execution_count": 9,
   "id": "0cea2ec6",
   "metadata": {},
   "outputs": [
    {
     "data": {
      "text/plain": [
       "Prize Segment  Model                \n",
       "High           SAMSUNG Galaxy A34 5G    5\n",
       "Low            Infinix HOT 30i          8\n",
       "Medium         REDMI Note 12 Pro 5G     9\n",
       "Name: count, dtype: int64"
      ]
     },
     "execution_count": 9,
     "metadata": {},
     "output_type": "execute_result"
    }
   ],
   "source": [
    "df.groupby('Prize Segment')['Model'].value_counts().groupby(level=0).head(1)"
   ]
  },
  {
   "cell_type": "markdown",
   "id": "48411d7c",
   "metadata": {},
   "source": [
    "3. **Do phones with high RAM also tend to have better cameras or batteries?**"
   ]
  },
  {
   "cell_type": "code",
   "execution_count": 10,
   "id": "7c69afbe",
   "metadata": {},
   "outputs": [],
   "source": [
    "df['Front Camera']=df['Front Camera'].str.replace('MP','').astype(int)\n",
    "df['Rear Camera']=df['Rear Camera'].str.replace('MP','').astype(int)"
   ]
  },
  {
   "cell_type": "code",
   "execution_count": 11,
   "id": "ff49b03c",
   "metadata": {},
   "outputs": [
    {
     "data": {
      "text/plain": [
       "Index(['Unnamed: 0', 'Model', 'Colour', 'Memory', 'RAM', 'Battery_',\n",
       "       'Rear Camera', 'Front Camera', 'AI Lens', 'Mobile Height', 'Processor_',\n",
       "       'Prize', 'Prize Segment'],\n",
       "      dtype='object')"
      ]
     },
     "execution_count": 11,
     "metadata": {},
     "output_type": "execute_result"
    }
   ],
   "source": [
    "df.columns"
   ]
  },
  {
   "cell_type": "code",
   "execution_count": 12,
   "id": "7e634749",
   "metadata": {},
   "outputs": [
    {
     "data": {
      "text/html": [
       "<div>\n",
       "<style scoped>\n",
       "    .dataframe tbody tr th:only-of-type {\n",
       "        vertical-align: middle;\n",
       "    }\n",
       "\n",
       "    .dataframe tbody tr th {\n",
       "        vertical-align: top;\n",
       "    }\n",
       "\n",
       "    .dataframe thead th {\n",
       "        text-align: right;\n",
       "    }\n",
       "</style>\n",
       "<table border=\"1\" class=\"dataframe\">\n",
       "  <thead>\n",
       "    <tr style=\"text-align: right;\">\n",
       "      <th></th>\n",
       "      <th>RAM</th>\n",
       "      <th>Front Camera</th>\n",
       "      <th>Rear Camera</th>\n",
       "      <th>Battery_</th>\n",
       "    </tr>\n",
       "  </thead>\n",
       "  <tbody>\n",
       "    <tr>\n",
       "      <th>RAM</th>\n",
       "      <td>1.000000</td>\n",
       "      <td>0.493861</td>\n",
       "      <td>0.439558</td>\n",
       "      <td>-0.104923</td>\n",
       "    </tr>\n",
       "    <tr>\n",
       "      <th>Front Camera</th>\n",
       "      <td>0.493861</td>\n",
       "      <td>1.000000</td>\n",
       "      <td>0.505378</td>\n",
       "      <td>0.032970</td>\n",
       "    </tr>\n",
       "    <tr>\n",
       "      <th>Rear Camera</th>\n",
       "      <td>0.439558</td>\n",
       "      <td>0.505378</td>\n",
       "      <td>1.000000</td>\n",
       "      <td>0.198260</td>\n",
       "    </tr>\n",
       "    <tr>\n",
       "      <th>Battery_</th>\n",
       "      <td>-0.104923</td>\n",
       "      <td>0.032970</td>\n",
       "      <td>0.198260</td>\n",
       "      <td>1.000000</td>\n",
       "    </tr>\n",
       "  </tbody>\n",
       "</table>\n",
       "</div>"
      ],
      "text/plain": [
       "                   RAM  Front Camera  Rear Camera  Battery_\n",
       "RAM           1.000000      0.493861     0.439558 -0.104923\n",
       "Front Camera  0.493861      1.000000     0.505378  0.032970\n",
       "Rear Camera   0.439558      0.505378     1.000000  0.198260\n",
       "Battery_     -0.104923      0.032970     0.198260  1.000000"
      ]
     },
     "execution_count": 12,
     "metadata": {},
     "output_type": "execute_result"
    }
   ],
   "source": [
    "df[['RAM','Front Camera','Rear Camera','Battery_']].corr()"
   ]
  },
  {
   "cell_type": "code",
   "execution_count": 13,
   "id": "53868dab",
   "metadata": {},
   "outputs": [
    {
     "data": {
      "text/plain": [
       "<seaborn.axisgrid.PairGrid at 0x215c6e8de50>"
      ]
     },
     "execution_count": 13,
     "metadata": {},
     "output_type": "execute_result"
    },
    {
     "data": {
      "text/plain": [
       "<Figure size 2000x2000 with 0 Axes>"
      ]
     },
     "metadata": {},
     "output_type": "display_data"
    },
    {
     "data": {
      "image/png": "[encoded data removed]",
      "text/plain": [
       "<Figure size 1000x1000 with 20 Axes>"
      ]
     },
     "metadata": {},
     "output_type": "display_data"
    }
   ],
   "source": [
    "plt.figure(figsize=(20,20))\n",
    "sns.pairplot(data=df[['RAM','Front Camera','Rear Camera','Battery_']])"
   ]
  },
  {
   "cell_type": "markdown",
   "id": "5e242d3e",
   "metadata": {},
   "source": [
    "Insights-- ram is positive corelated with camera but negative corelated with battery."
   ]
  },
  {
   "cell_type": "markdown",
   "id": "8ee1fce4",
   "metadata": {},
   "source": [
    "4. **How does internal storage affect price compared to RAM or battery?**"
   ]
  },
  {
   "cell_type": "code",
   "execution_count": 14,
   "id": "2e0302b1",
   "metadata": {},
   "outputs": [
    {
     "data": {
      "text/html": [
       "<div>\n",
       "<style scoped>\n",
       "    .dataframe tbody tr th:only-of-type {\n",
       "        vertical-align: middle;\n",
       "    }\n",
       "\n",
       "    .dataframe tbody tr th {\n",
       "        vertical-align: top;\n",
       "    }\n",
       "\n",
       "    .dataframe thead th {\n",
       "        text-align: right;\n",
       "    }\n",
       "</style>\n",
       "<table border=\"1\" class=\"dataframe\">\n",
       "  <thead>\n",
       "    <tr style=\"text-align: right;\">\n",
       "      <th></th>\n",
       "      <th>Memory</th>\n",
       "      <th>RAM</th>\n",
       "      <th>Battery_</th>\n",
       "      <th>Prize</th>\n",
       "    </tr>\n",
       "  </thead>\n",
       "  <tbody>\n",
       "    <tr>\n",
       "      <th>Memory</th>\n",
       "      <td>1.000000</td>\n",
       "      <td>0.625284</td>\n",
       "      <td>-0.053210</td>\n",
       "      <td>0.566660</td>\n",
       "    </tr>\n",
       "    <tr>\n",
       "      <th>RAM</th>\n",
       "      <td>0.625284</td>\n",
       "      <td>1.000000</td>\n",
       "      <td>-0.104923</td>\n",
       "      <td>0.532024</td>\n",
       "    </tr>\n",
       "    <tr>\n",
       "      <th>Battery_</th>\n",
       "      <td>-0.053210</td>\n",
       "      <td>-0.104923</td>\n",
       "      <td>1.000000</td>\n",
       "      <td>-0.034297</td>\n",
       "    </tr>\n",
       "    <tr>\n",
       "      <th>Prize</th>\n",
       "      <td>0.566660</td>\n",
       "      <td>0.532024</td>\n",
       "      <td>-0.034297</td>\n",
       "      <td>1.000000</td>\n",
       "    </tr>\n",
       "  </tbody>\n",
       "</table>\n",
       "</div>"
      ],
      "text/plain": [
       "            Memory       RAM  Battery_     Prize\n",
       "Memory    1.000000  0.625284 -0.053210  0.566660\n",
       "RAM       0.625284  1.000000 -0.104923  0.532024\n",
       "Battery_ -0.053210 -0.104923  1.000000 -0.034297\n",
       "Prize     0.566660  0.532024 -0.034297  1.000000"
      ]
     },
     "execution_count": 14,
     "metadata": {},
     "output_type": "execute_result"
    }
   ],
   "source": [
    "df[['Memory','RAM','Battery_','Prize']].corr()"
   ]
  },
  {
   "cell_type": "markdown",
   "id": "9cb8fc79",
   "metadata": {},
   "source": [
    "Insights--Internal storage affects more posive to price than battery but less with RAM  "
   ]
  },
  {
   "cell_type": "markdown",
   "id": "05814375",
   "metadata": {},
   "source": [
    "\n",
    "### 📊 **Customer Preference Trends**"
   ]
  },
  {
   "cell_type": "markdown",
   "id": "2f3a77f4",
   "metadata": {},
   "source": [
    "5. **Which features show the strongest correlation with price?**"
   ]
  },
  {
   "cell_type": "code",
   "execution_count": 16,
   "id": "11a7b8c5",
   "metadata": {},
   "outputs": [
    {
     "data": {
      "text/html": [
       "<div>\n",
       "<style scoped>\n",
       "    .dataframe tbody tr th:only-of-type {\n",
       "        vertical-align: middle;\n",
       "    }\n",
       "\n",
       "    .dataframe tbody tr th {\n",
       "        vertical-align: top;\n",
       "    }\n",
       "\n",
       "    .dataframe thead th {\n",
       "        text-align: right;\n",
       "    }\n",
       "</style>\n",
       "<table border=\"1\" class=\"dataframe\">\n",
       "  <thead>\n",
       "    <tr style=\"text-align: right;\">\n",
       "      <th></th>\n",
       "      <th>Unnamed: 0</th>\n",
       "      <th>Memory</th>\n",
       "      <th>RAM</th>\n",
       "      <th>Battery_</th>\n",
       "      <th>Rear Camera</th>\n",
       "      <th>Front Camera</th>\n",
       "      <th>AI Lens</th>\n",
       "      <th>Mobile Height</th>\n",
       "      <th>Prize</th>\n",
       "    </tr>\n",
       "  </thead>\n",
       "  <tbody>\n",
       "    <tr>\n",
       "      <th>Unnamed: 0</th>\n",
       "      <td>1.000000</td>\n",
       "      <td>0.120579</td>\n",
       "      <td>0.084103</td>\n",
       "      <td>-0.057136</td>\n",
       "      <td>0.036324</td>\n",
       "      <td>0.233370</td>\n",
       "      <td>-0.160373</td>\n",
       "      <td>0.015372</td>\n",
       "      <td>0.333940</td>\n",
       "    </tr>\n",
       "    <tr>\n",
       "      <th>Memory</th>\n",
       "      <td>0.120579</td>\n",
       "      <td>1.000000</td>\n",
       "      <td>0.625284</td>\n",
       "      <td>-0.053210</td>\n",
       "      <td>0.530615</td>\n",
       "      <td>0.496865</td>\n",
       "      <td>-0.094442</td>\n",
       "      <td>0.063163</td>\n",
       "      <td>0.566660</td>\n",
       "    </tr>\n",
       "    <tr>\n",
       "      <th>RAM</th>\n",
       "      <td>0.084103</td>\n",
       "      <td>0.625284</td>\n",
       "      <td>1.000000</td>\n",
       "      <td>-0.104923</td>\n",
       "      <td>0.439558</td>\n",
       "      <td>0.493861</td>\n",
       "      <td>-0.082622</td>\n",
       "      <td>0.092951</td>\n",
       "      <td>0.532024</td>\n",
       "    </tr>\n",
       "    <tr>\n",
       "      <th>Battery_</th>\n",
       "      <td>-0.057136</td>\n",
       "      <td>-0.053210</td>\n",
       "      <td>-0.104923</td>\n",
       "      <td>1.000000</td>\n",
       "      <td>0.198260</td>\n",
       "      <td>0.032970</td>\n",
       "      <td>0.150156</td>\n",
       "      <td>0.695641</td>\n",
       "      <td>-0.034297</td>\n",
       "    </tr>\n",
       "    <tr>\n",
       "      <th>Rear Camera</th>\n",
       "      <td>0.036324</td>\n",
       "      <td>0.530615</td>\n",
       "      <td>0.439558</td>\n",
       "      <td>0.198260</td>\n",
       "      <td>1.000000</td>\n",
       "      <td>0.505378</td>\n",
       "      <td>-0.043597</td>\n",
       "      <td>0.239883</td>\n",
       "      <td>0.410367</td>\n",
       "    </tr>\n",
       "    <tr>\n",
       "      <th>Front Camera</th>\n",
       "      <td>0.233370</td>\n",
       "      <td>0.496865</td>\n",
       "      <td>0.493861</td>\n",
       "      <td>0.032970</td>\n",
       "      <td>0.505378</td>\n",
       "      <td>1.000000</td>\n",
       "      <td>-0.111779</td>\n",
       "      <td>0.208012</td>\n",
       "      <td>0.532321</td>\n",
       "    </tr>\n",
       "    <tr>\n",
       "      <th>AI Lens</th>\n",
       "      <td>-0.160373</td>\n",
       "      <td>-0.094442</td>\n",
       "      <td>-0.082622</td>\n",
       "      <td>0.150156</td>\n",
       "      <td>-0.043597</td>\n",
       "      <td>-0.111779</td>\n",
       "      <td>1.000000</td>\n",
       "      <td>0.052018</td>\n",
       "      <td>-0.153691</td>\n",
       "    </tr>\n",
       "    <tr>\n",
       "      <th>Mobile Height</th>\n",
       "      <td>0.015372</td>\n",
       "      <td>0.063163</td>\n",
       "      <td>0.092951</td>\n",
       "      <td>0.695641</td>\n",
       "      <td>0.239883</td>\n",
       "      <td>0.208012</td>\n",
       "      <td>0.052018</td>\n",
       "      <td>1.000000</td>\n",
       "      <td>0.176009</td>\n",
       "    </tr>\n",
       "    <tr>\n",
       "      <th>Prize</th>\n",
       "      <td>0.333940</td>\n",
       "      <td>0.566660</td>\n",
       "      <td>0.532024</td>\n",
       "      <td>-0.034297</td>\n",
       "      <td>0.410367</td>\n",
       "      <td>0.532321</td>\n",
       "      <td>-0.153691</td>\n",
       "      <td>0.176009</td>\n",
       "      <td>1.000000</td>\n",
       "    </tr>\n",
       "  </tbody>\n",
       "</table>\n",
       "</div>"
      ],
      "text/plain": [
       "               Unnamed: 0    Memory       RAM  Battery_  Rear Camera  \\\n",
       "Unnamed: 0       1.000000  0.120579  0.084103 -0.057136     0.036324   \n",
       "Memory           0.120579  1.000000  0.625284 -0.053210     0.530615   \n",
       "RAM              0.084103  0.625284  1.000000 -0.104923     0.439558   \n",
       "Battery_        -0.057136 -0.053210 -0.104923  1.000000     0.198260   \n",
       "Rear Camera      0.036324  0.530615  0.439558  0.198260     1.000000   \n",
       "Front Camera     0.233370  0.496865  0.493861  0.032970     0.505378   \n",
       "AI Lens         -0.160373 -0.094442 -0.082622  0.150156    -0.043597   \n",
       "Mobile Height    0.015372  0.063163  0.092951  0.695641     0.239883   \n",
       "Prize            0.333940  0.566660  0.532024 -0.034297     0.410367   \n",
       "\n",
       "               Front Camera   AI Lens  Mobile Height     Prize  \n",
       "Unnamed: 0         0.233370 -0.160373       0.015372  0.333940  \n",
       "Memory             0.496865 -0.094442       0.063163  0.566660  \n",
       "RAM                0.493861 -0.082622       0.092951  0.532024  \n",
       "Battery_           0.032970  0.150156       0.695641 -0.034297  \n",
       "Rear Camera        0.505378 -0.043597       0.239883  0.410367  \n",
       "Front Camera       1.000000 -0.111779       0.208012  0.532321  \n",
       "AI Lens           -0.111779  1.000000       0.052018 -0.153691  \n",
       "Mobile Height      0.208012  0.052018       1.000000  0.176009  \n",
       "Prize              0.532321 -0.153691       0.176009  1.000000  "
      ]
     },
     "execution_count": 16,
     "metadata": {},
     "output_type": "execute_result"
    }
   ],
   "source": [
    "num_cols=df.select_dtypes(exclude='O').columns\n",
    "df[num_cols].corr()"
   ]
  },
  {
   "cell_type": "markdown",
   "id": "65d90d8e",
   "metadata": {},
   "source": [
    "Insights-- Memory and RAM are highly corelated with price"
   ]
  },
  {
   "cell_type": "markdown",
   "id": "56dab672",
   "metadata": {},
   "source": [
    "### 🏷️ **Pricing & Competitive Strategy**"
   ]
  },
  {
   "cell_type": "markdown",
   "id": "6018b88e",
   "metadata": {},
   "source": [
    "6. **Can we predict a phone’s price based on specs with high accuracy?**"
   ]
  },
  {
   "cell_type": "markdown",
   "id": "f5bdac7f",
   "metadata": {},
   "source": [
    "Insights--yes we can predict"
   ]
  },
  {
   "cell_type": "markdown",
   "id": "9aa2a5f8",
   "metadata": {},
   "source": [
    "7. **What is the average price difference per additional GB of RAM or storage?**"
   ]
  },
  {
   "cell_type": "code",
   "execution_count": 20,
   "id": "9294fbdc",
   "metadata": {},
   "outputs": [
    {
     "data": {
      "text/html": [
       "<div>\n",
       "<style scoped>\n",
       "    .dataframe tbody tr th:only-of-type {\n",
       "        vertical-align: middle;\n",
       "    }\n",
       "\n",
       "    .dataframe tbody tr th {\n",
       "        vertical-align: top;\n",
       "    }\n",
       "\n",
       "    .dataframe thead th {\n",
       "        text-align: right;\n",
       "    }\n",
       "</style>\n",
       "<table border=\"1\" class=\"dataframe\">\n",
       "  <thead>\n",
       "    <tr style=\"text-align: right;\">\n",
       "      <th></th>\n",
       "      <th>RAM</th>\n",
       "      <th>Prize</th>\n",
       "    </tr>\n",
       "  </thead>\n",
       "  <tbody>\n",
       "    <tr>\n",
       "      <th>RAM</th>\n",
       "      <td>1.000000</td>\n",
       "      <td>0.532024</td>\n",
       "    </tr>\n",
       "    <tr>\n",
       "      <th>Prize</th>\n",
       "      <td>0.532024</td>\n",
       "      <td>1.000000</td>\n",
       "    </tr>\n",
       "  </tbody>\n",
       "</table>\n",
       "</div>"
      ],
      "text/plain": [
       "            RAM     Prize\n",
       "RAM    1.000000  0.532024\n",
       "Prize  0.532024  1.000000"
      ]
     },
     "execution_count": 20,
     "metadata": {},
     "output_type": "execute_result"
    }
   ],
   "source": [
    "df[['RAM','Prize']].corr()"
   ]
  },
  {
   "cell_type": "markdown",
   "id": "9f100201",
   "metadata": {},
   "source": [
    "8. **Is there a specific screen size range preferred in high-priced models?**"
   ]
  },
  {
   "cell_type": "code",
   "execution_count": 21,
   "id": "9a845b10",
   "metadata": {},
   "outputs": [
    {
     "name": "stdout",
     "output_type": "stream",
     "text": [
      "Average price increase per GB of RAM: ₹2893.04\n"
     ]
    }
   ],
   "source": [
    "from sklearn.linear_model import LinearRegression\n",
    "\n",
    "X = df[['RAM']]\n",
    "y = df['Prize']\n",
    "\n",
    "model = LinearRegression()\n",
    "model.fit(X, y)\n",
    "\n",
    "price_per_gb_ram = model.coef_[0]\n",
    "print(f\"Average price increase per GB of RAM: ₹{price_per_gb_ram:.2f}\")\n"
   ]
  }
 ],
 "metadata": {
  "kernelspec": {
   "display_name": "Python 3",
   "language": "python",
   "name": "python3"
  },
  "language_info": {
   "codemirror_mode": {
    "name": "ipython",
    "version": 3
   },
   "file_extension": ".py",
   "mimetype": "text/x-python",
   "name": "python",
   "nbconvert_exporter": "python",
   "pygments_lexer": "ipython3",
   "version": "3.12.9"
  }
 },
 "nbformat": 4,
 "nbformat_minor": 5
}
